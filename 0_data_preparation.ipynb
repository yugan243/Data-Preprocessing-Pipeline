{
 "cells": [
  {
   "cell_type": "code",
   "execution_count": 1,
   "id": "e208aadb",
   "metadata": {},
   "outputs": [
    {
     "name": "stdout",
     "output_type": "stream",
     "text": [
      "Note: you may need to restart the kernel to use updated packages.\n"
     ]
    },
    {
     "name": "stderr",
     "output_type": "stream",
     "text": [
      "ERROR: Could not find a version that satisfies the requirement requirements.txt (from versions: none)\n",
      "ERROR: No matching distribution found for requirements.txt\n"
     ]
    }
   ],
   "source": [
    "%pip install -q requirements.txt"
   ]
  },
  {
   "cell_type": "markdown",
   "id": "aeab541d",
   "metadata": {},
   "source": [
    "### 1. Import Dependencies\n"
   ]
  },
  {
   "cell_type": "code",
   "execution_count": 1,
   "id": "9a808749",
   "metadata": {},
   "outputs": [],
   "source": [
    "import numpy as np\n",
    "import pandas as pd\n",
    "from matplotlib import pyplot as plt\n",
    "from sklearn.pipeline import Pipeline\n",
    "from sklearn.impute import SimpleImputer\n",
    "from imblearn.over_sampling import SMOTE\n",
    "from sklearn.compose import ColumnTransformer\n",
    "from sklearn.model_selection import train_test_split\n",
    "from sklearn.preprocessing import StandardScaler, OneHotEncoder, OrdinalEncoder"
   ]
  },
  {
   "cell_type": "markdown",
   "id": "87c70327",
   "metadata": {},
   "source": [
    "### 2. Load and Exploring data"
   ]
  },
  {
   "cell_type": "code",
   "execution_count": 3,
   "id": "444a43e0",
   "metadata": {},
   "outputs": [
    {
     "data": {
      "text/html": [
       "<div>\n",
       "<style scoped>\n",
       "    .dataframe tbody tr th:only-of-type {\n",
       "        vertical-align: middle;\n",
       "    }\n",
       "\n",
       "    .dataframe tbody tr th {\n",
       "        vertical-align: top;\n",
       "    }\n",
       "\n",
       "    .dataframe thead th {\n",
       "        text-align: right;\n",
       "    }\n",
       "</style>\n",
       "<table border=\"1\" class=\"dataframe\">\n",
       "  <thead>\n",
       "    <tr style=\"text-align: right;\">\n",
       "      <th></th>\n",
       "      <th>Geography</th>\n",
       "      <th>Gender</th>\n",
       "      <th>Age</th>\n",
       "      <th>Tenure</th>\n",
       "      <th>Balance</th>\n",
       "      <th>NumOfProducts</th>\n",
       "      <th>HasCrCard</th>\n",
       "      <th>IsActiveMember</th>\n",
       "      <th>EstimatedSalary</th>\n",
       "      <th>Exited</th>\n",
       "      <th>CreditSCoreBins</th>\n",
       "    </tr>\n",
       "  </thead>\n",
       "  <tbody>\n",
       "    <tr>\n",
       "      <th>0</th>\n",
       "      <td>France</td>\n",
       "      <td>Female</td>\n",
       "      <td>42.00</td>\n",
       "      <td>2</td>\n",
       "      <td>0.00</td>\n",
       "      <td>1</td>\n",
       "      <td>1</td>\n",
       "      <td>1</td>\n",
       "      <td>101348.88</td>\n",
       "      <td>1</td>\n",
       "      <td>Fair</td>\n",
       "    </tr>\n",
       "    <tr>\n",
       "      <th>1</th>\n",
       "      <td>Spain</td>\n",
       "      <td>Female</td>\n",
       "      <td>41.00</td>\n",
       "      <td>1</td>\n",
       "      <td>83807.86</td>\n",
       "      <td>1</td>\n",
       "      <td>0</td>\n",
       "      <td>1</td>\n",
       "      <td>112542.58</td>\n",
       "      <td>0</td>\n",
       "      <td>Fair</td>\n",
       "    </tr>\n",
       "    <tr>\n",
       "      <th>2</th>\n",
       "      <td>France</td>\n",
       "      <td>Female</td>\n",
       "      <td>42.00</td>\n",
       "      <td>8</td>\n",
       "      <td>159660.80</td>\n",
       "      <td>3</td>\n",
       "      <td>1</td>\n",
       "      <td>0</td>\n",
       "      <td>113931.57</td>\n",
       "      <td>1</td>\n",
       "      <td>Poor</td>\n",
       "    </tr>\n",
       "    <tr>\n",
       "      <th>3</th>\n",
       "      <td>France</td>\n",
       "      <td>Female</td>\n",
       "      <td>38.91</td>\n",
       "      <td>1</td>\n",
       "      <td>0.00</td>\n",
       "      <td>2</td>\n",
       "      <td>0</td>\n",
       "      <td>0</td>\n",
       "      <td>93826.63</td>\n",
       "      <td>0</td>\n",
       "      <td>Good</td>\n",
       "    </tr>\n",
       "    <tr>\n",
       "      <th>4</th>\n",
       "      <td>Spain</td>\n",
       "      <td>Female</td>\n",
       "      <td>43.00</td>\n",
       "      <td>2</td>\n",
       "      <td>125510.82</td>\n",
       "      <td>1</td>\n",
       "      <td>1</td>\n",
       "      <td>1</td>\n",
       "      <td>79084.10</td>\n",
       "      <td>0</td>\n",
       "      <td>Excellent</td>\n",
       "    </tr>\n",
       "  </tbody>\n",
       "</table>\n",
       "</div>"
      ],
      "text/plain": [
       "  Geography  Gender    Age  ...  EstimatedSalary  Exited  CreditSCoreBins\n",
       "0    France  Female  42.00  ...        101348.88       1             Fair\n",
       "1     Spain  Female  41.00  ...        112542.58       0             Fair\n",
       "2    France  Female  42.00  ...        113931.57       1             Poor\n",
       "3    France  Female  38.91  ...         93826.63       0             Good\n",
       "4     Spain  Female  43.00  ...         79084.10       0        Excellent\n",
       "\n",
       "[5 rows x 11 columns]"
      ]
     },
     "execution_count": 3,
     "metadata": {},
     "output_type": "execute_result"
    }
   ],
   "source": [
    "df = pd.read_csv('data/processed/ChurnModelling_Binnig_Applied.csv')\n",
    "df.head()"
   ]
  },
  {
   "cell_type": "markdown",
   "id": "bda67f4e",
   "metadata": {},
   "source": [
    "### 3. Build Scikit-learn Pipeline"
   ]
  },
  {
   "cell_type": "code",
   "execution_count": 8,
   "id": "43a04c84",
   "metadata": {},
   "outputs": [],
   "source": [
    "numerical_features = ['Age', 'Tenure', 'Balance', 'EstimatedSalary']\n",
    "norminal_features = ['Gender', 'Geography']\n",
    "ordinal_features = ['CreditSCoreBins']\n",
    "remainder_features = ['NumOfProducts', 'HasCrCard', 'IsActiveMember', 'Exited']\n",
    "\n",
    "\n",
    "\n",
    "numerical_transformer = Pipeline(\n",
    "                                steps=[\n",
    "                                    ('imputer', SimpleImputer(strategy='median')),\n",
    "                                    ('scaler', StandardScaler())\n",
    "                                ]\n",
    "                                )\n",
    "\n",
    "norminal_transformer = Pipeline(\n",
    "                                steps=[\n",
    "                                    ('imputer', SimpleImputer(\n",
    "                                                            strategy='constant',\n",
    "                                                            fill_value='missing'\n",
    "                                                            )),\n",
    "                                    ('encoder', OneHotEncoder())\n",
    "                                ]\n",
    "                                )\n",
    "\n",
    "ordinal_transformer = Pipeline(\n",
    "                                steps=[\n",
    "                                    ('imputer', SimpleImputer(\n",
    "                                                            strategy='constant',\n",
    "                                                            fill_value='missing'\n",
    "                                                            )),\n",
    "                                    ('encoder', OrdinalEncoder())\n",
    "                                ]\n",
    "                                )\n",
    "\n",
    "preprocessor = ColumnTransformer(\n",
    "                                transformers=[\n",
    "                                            ('num', numerical_transformer, numerical_features),\n",
    "                                            ('nom', norminal_transformer, norminal_features),\n",
    "                                            ('ord', ordinal_transformer, ordinal_features)\n",
    "                                ],\n",
    "                                remainder='drop'\n",
    "                                )\n",
    "\n",
    "norminal_feature_names = []\n",
    "for feature in norminal_features:\n",
    "    unique_values = df[feature].unique()\n",
    "    norminal_feature_names.extend([f\"{feature}_{val}\" for val in unique_values])\n",
    "\n",
    "df_cp = df.copy()\n",
    "df_transformed = pd.DataFrame(\n",
    "                            preprocessor.fit_transform(df_cp),\n",
    "                            columns=numerical_features+norminal_feature_names+ordinal_features\n",
    "                            )\n",
    "df_remainder = df[remainder_features]\n",
    "df_pp = pd.concat(\n",
    "                [df_transformed, df_remainder], \n",
    "                axis=1\n",
    "                )"
   ]
  },
  {
   "cell_type": "code",
   "execution_count": 11,
   "id": "713e6752",
   "metadata": {},
   "outputs": [],
   "source": [
    "df_pp.to_csv('data/processed/X_Tranformed.csv')"
   ]
  },
  {
   "cell_type": "markdown",
   "id": "63c0afc0",
   "metadata": {},
   "source": [
    "### 4. Handle Class Imbalance"
   ]
  },
  {
   "cell_type": "code",
   "execution_count": 12,
   "id": "5e2427e2",
   "metadata": {},
   "outputs": [],
   "source": [
    "X = df_pp.drop(columns=['Exited'])\n",
    "Y = df_pp['Exited']"
   ]
  },
  {
   "cell_type": "code",
   "execution_count": 14,
   "id": "42e4e02b",
   "metadata": {},
   "outputs": [],
   "source": [
    "\"\"\"\n",
    "chrun - 1000\n",
    "non-churn - 9000\n",
    "\n",
    "upsample - (chrun) 1000 -> 9000\n",
    "downsamping - (non-churn) 9000 -> 1000\n",
    "\"\"\"\n",
    "\n",
    "X_train, X_test, Y_train, Y_test = train_test_split(\n",
    "                                                    X, Y, \n",
    "                                                    test_size=0.2, \n",
    "                                                    random_state=42\n",
    "                                                    )\n",
    "\n"
   ]
  },
  {
   "cell_type": "code",
   "execution_count": 15,
   "id": "0382731d",
   "metadata": {},
   "outputs": [],
   "source": [
    "smote = SMOTE(random_state=42)\n",
    "X_train_resampled, Y_train_resampled = smote.fit_resample(X_train, Y_train)"
   ]
  },
  {
   "cell_type": "code",
   "execution_count": 16,
   "id": "e811001b",
   "metadata": {},
   "outputs": [
    {
     "data": {
      "text/plain": [
       "Text(0, 0.5, 'Count')"
      ]
     },
     "execution_count": 16,
     "metadata": {},
     "output_type": "execute_result"
    },
    {
     "data": {
      "image/png": "[encoded data removed]",
      "text/plain": [
       "<Figure size 1500x400 with 3 Axes>"
      ]
     },
     "metadata": {},
     "output_type": "display_data"
    }
   ],
   "source": [
    "plt.figure(figsize=(15, 4))\n",
    "\n",
    "# Before SMOTE\n",
    "plt.subplot(131)\n",
    "Y_train.value_counts().plot(kind='bar')\n",
    "plt.title('Class Distribution - Training Set (Before SMOTE)')\n",
    "plt.xlabel('Class')\n",
    "plt.ylabel('Count')\n",
    "\n",
    "# After SMOTE\n",
    "plt.subplot(132)\n",
    "Y_train_resampled.value_counts().plot(kind='bar')\n",
    "plt.title('Class Distribution - Training Set (After SMOTE)')\n",
    "plt.xlabel('Class')\n",
    "plt.ylabel('Count')\n",
    "\n",
    "# Test Set\n",
    "plt.subplot(133)\n",
    "Y_test.value_counts().plot(kind='bar')\n",
    "plt.title('Class Distribution - Test Set')\n",
    "plt.xlabel('Class')\n",
    "plt.ylabel('Count')"
   ]
  },
  {
   "cell_type": "code",
   "execution_count": 17,
   "id": "09372140",
   "metadata": {},
   "outputs": [],
   "source": [
    "np.savez('artifacts/X_train.npz', X_train_resampled)\n",
    "np.savez('artifacts/Y_train.npz', Y_train_resampled)\n",
    "np.savez('artifacts/X_test.npz', X_test)\n",
    "np.savez('artifacts/Y_test.npz', Y_test)"
   ]
  },
  {
   "cell_type": "code",
   "execution_count": null,
   "id": "23dde9ac",
   "metadata": {},
   "outputs": [],
   "source": []
  }
 ],
 "metadata": {
  "kernelspec": {
   "display_name": "condaenv",
   "language": "python",
   "name": "python3"
  },
  "language_info": {
   "codemirror_mode": {
    "name": "ipython",
    "version": 3
   },
   "file_extension": ".py",
   "mimetype": "text/x-python",
   "name": "python",
   "nbconvert_exporter": "python",
   "pygments_lexer": "ipython3",
   "version": "3.11.13"
  }
 },
 "nbformat": 4,
 "nbformat_minor": 5
}
